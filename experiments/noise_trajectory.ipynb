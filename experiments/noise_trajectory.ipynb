{
 "cells": [
  {
   "cell_type": "code",
   "execution_count": 20,
   "metadata": {},
   "outputs": [],
   "source": [
    "import os, sys\n",
    "import numpy as np\n",
    "import torch\n",
    "import json\n",
    "\n",
    "sys.path.append(\"..\")\n",
    "from singleVis.SingleVisualizationModel import VisModel\n",
    "from singleVis.data import NormalDataProvider\n",
    "from singleVis.eval.evaluator import Evaluator\n",
    "from singleVis.projector import Projector, tfDVIProjector, TimeVisProjector, DVIProjector"
   ]
  },
  {
   "cell_type": "code",
   "execution_count": 21,
   "metadata": {},
   "outputs": [],
   "source": [
    "# tensorflow\n",
    "visible_device = \"0,1,2,3\"\n",
    "os.environ[\"CUDA_VISIBLE_DEVICES\"] = visible_device"
   ]
  },
  {
   "cell_type": "code",
   "execution_count": 22,
   "metadata": {},
   "outputs": [],
   "source": [
    "dataset = \"mnist\"\n",
    "noise_type = \"symmetric\"\n",
    "noise_rate = \"5\""
   ]
  },
  {
   "cell_type": "code",
   "execution_count": 23,
   "metadata": {},
   "outputs": [],
   "source": [
    "path = \"/home/xianglin/projects/DVI_data/noisy/{}/{}/{}/clean_label.json\".format(noise_type, dataset, noise_rate)\n",
    "with open(path, \"r\") as f:\n",
    "    clean_label = json.load(f)\n",
    "path = \"/home/xianglin/projects/DVI_data/noisy/{}/{}/{}/noisy_label.json\".format(noise_type, dataset, noise_rate)\n",
    "with open(path, \"r\") as f:\n",
    "    noisy_label = json.load(f)\n",
    "\n",
    "clean_label = np.array(clean_label)\n",
    "noisy_label = np.array(noisy_label)"
   ]
  },
  {
   "cell_type": "code",
   "execution_count": 24,
   "metadata": {},
   "outputs": [],
   "source": [
    "VIS_METHOD = \"tDVI\"\n",
    "# VIS_METHOD = \"TimeVis\""
   ]
  },
  {
   "cell_type": "code",
   "execution_count": 25,
   "metadata": {},
   "outputs": [],
   "source": [
    "CONTENT_PATH = \"/home/xianglin/projects/DVI_data/noisy/{}/{}/{}/\".format(noise_type, dataset, noise_rate)\n",
    "sys.path.append(CONTENT_PATH)\n",
    "with open(os.path.join(CONTENT_PATH, \"config.json\"), \"r\") as f:\n",
    "    config = json.load(f)\n",
    "config = config[VIS_METHOD]"
   ]
  },
  {
   "cell_type": "code",
   "execution_count": 26,
   "metadata": {},
   "outputs": [
    {
     "name": "stdout",
     "output_type": "stream",
     "text": [
      "Finish initialization...\n"
     ]
    }
   ],
   "source": [
    "CLASSES = config[\"CLASSES\"]\n",
    "GPU_ID = config[\"GPU\"]\n",
    "EPOCH_START = config[\"EPOCH_START\"]\n",
    "EPOCH_END = config[\"EPOCH_END\"]\n",
    "EPOCH_PERIOD = config[\"EPOCH_PERIOD\"]\n",
    "EPOCH_NAME = config[\"EPOCH_NAME\"]\n",
    "\n",
    "\n",
    "# Training parameter (subject model)\n",
    "TRAINING_PARAMETER = config[\"TRAINING\"]\n",
    "NET = TRAINING_PARAMETER[\"NET\"]\n",
    "LEN = TRAINING_PARAMETER[\"train_num\"]\n",
    "# Training parameter (visualization model)\n",
    "VISUALIZATION_PARAMETER = config[\"VISUALIZATION\"]\n",
    "ENCODER_DIMS = VISUALIZATION_PARAMETER[\"ENCODER_DIMS\"]\n",
    "DECODER_DIMS = VISUALIZATION_PARAMETER[\"DECODER_DIMS\"]\n",
    "VIS_MODEL_NAME = VISUALIZATION_PARAMETER[\"VIS_MODEL_NAME\"]\n",
    "\n",
    "TOTOAL_EPOCH = (EPOCH_END-EPOCH_START)//EPOCH_PERIOD + 1\n",
    "\n",
    "# define hyperparameters\n",
    "DEVICE = torch.device(\"cuda:{}\".format(GPU_ID) if torch.cuda.is_available() else \"cpu\")\n",
    "\n",
    "import Model.model as subject_model\n",
    "# net = resnet18()\n",
    "net = eval(\"subject_model.{}()\".format(NET))\n",
    "\n",
    "data_provider = NormalDataProvider(CONTENT_PATH, net, EPOCH_START, EPOCH_END, EPOCH_PERIOD, device=DEVICE, classes=CLASSES, epoch_name=\"Epoch\", verbose=1)\n",
    "\n",
    "if VIS_METHOD == \"tfDVI\":\n",
    "    # Define Projector\n",
    "    flag = \"_temporal_id_withoutB\"\n",
    "    projector = tfDVIProjector(CONTENT_PATH, flag=flag)\n",
    "elif VIS_METHOD == \"TimeVis\":\n",
    "    model = VisModel(ENCODER_DIMS, DECODER_DIMS)\n",
    "    projector = TimeVisProjector(vis_model=model, content_path=CONTENT_PATH, vis_model_name=VIS_MODEL_NAME, device=DEVICE)\n",
    "elif VIS_METHOD == \"DeepDebugger\":\n",
    "    model = VisModel(ENCODER_DIMS, DECODER_DIMS)\n",
    "    SEGMENTS = VISUALIZATION_PARAMETER[\"SEGMENTS\"]\n",
    "    projector = Projector(vis_model=model, content_path=CONTENT_PATH, segments=SEGMENTS, device=DEVICE)\n",
    "elif VIS_METHOD == \"tDVI\":\n",
    "    model = VisModel(ENCODER_DIMS, DECODER_DIMS)\n",
    "    projector = DVIProjector(vis_model=model, content_path=CONTENT_PATH, vis_model_name=VIS_MODEL_NAME, epoch_name=EPOCH_NAME, device=DEVICE)\n"
   ]
  },
  {
   "cell_type": "code",
   "execution_count": 18,
   "metadata": {},
   "outputs": [],
   "source": [
    "samples = np.zeros((TOTOAL_EPOCH, LEN, 512))\n",
    "for i in range(EPOCH_START, EPOCH_END+EPOCH_PERIOD, EPOCH_PERIOD):\n",
    "    e = (i-EPOCH_START)//EPOCH_PERIOD\n",
    "    samples[e] = data_provider.train_representation(i)"
   ]
  },
  {
   "cell_type": "code",
   "execution_count": 19,
   "metadata": {},
   "outputs": [
    {
     "name": "stdout",
     "output_type": "stream",
     "text": [
      "/home/xianglin/projects/DVI_data/noisy/symmetric/mnist/5/Model/Epoch_1/tDVI.pth\n",
      "Successfully load the DVI visualization model for iteration 1\n",
      "/home/xianglin/projects/DVI_data/noisy/symmetric/mnist/5/Model/Epoch_2/tDVI.pth\n",
      "Successfully load the DVI visualization model for iteration 2\n",
      "/home/xianglin/projects/DVI_data/noisy/symmetric/mnist/5/Model/Epoch_3/tDVI.pth\n",
      "Successfully load the DVI visualization model for iteration 3\n",
      "/home/xianglin/projects/DVI_data/noisy/symmetric/mnist/5/Model/Epoch_4/tDVI.pth\n",
      "Successfully load the DVI visualization model for iteration 4\n",
      "/home/xianglin/projects/DVI_data/noisy/symmetric/mnist/5/Model/Epoch_5/tDVI.pth\n",
      "Successfully load the DVI visualization model for iteration 5\n",
      "/home/xianglin/projects/DVI_data/noisy/symmetric/mnist/5/Model/Epoch_6/tDVI.pth\n",
      "Successfully load the DVI visualization model for iteration 6\n",
      "/home/xianglin/projects/DVI_data/noisy/symmetric/mnist/5/Model/Epoch_7/tDVI.pth\n",
      "Successfully load the DVI visualization model for iteration 7\n",
      "/home/xianglin/projects/DVI_data/noisy/symmetric/mnist/5/Model/Epoch_8/tDVI.pth\n",
      "Successfully load the DVI visualization model for iteration 8\n",
      "/home/xianglin/projects/DVI_data/noisy/symmetric/mnist/5/Model/Epoch_9/tDVI.pth\n",
      "Successfully load the DVI visualization model for iteration 9\n",
      "/home/xianglin/projects/DVI_data/noisy/symmetric/mnist/5/Model/Epoch_10/tDVI.pth\n",
      "Successfully load the DVI visualization model for iteration 10\n",
      "/home/xianglin/projects/DVI_data/noisy/symmetric/mnist/5/Model/Epoch_11/tDVI.pth\n",
      "Successfully load the DVI visualization model for iteration 11\n",
      "/home/xianglin/projects/DVI_data/noisy/symmetric/mnist/5/Model/Epoch_12/tDVI.pth\n",
      "Successfully load the DVI visualization model for iteration 12\n",
      "/home/xianglin/projects/DVI_data/noisy/symmetric/mnist/5/Model/Epoch_13/tDVI.pth\n",
      "Successfully load the DVI visualization model for iteration 13\n",
      "/home/xianglin/projects/DVI_data/noisy/symmetric/mnist/5/Model/Epoch_14/tDVI.pth\n",
      "Successfully load the DVI visualization model for iteration 14\n",
      "/home/xianglin/projects/DVI_data/noisy/symmetric/mnist/5/Model/Epoch_15/tDVI.pth\n",
      "Successfully load the DVI visualization model for iteration 15\n"
     ]
    }
   ],
   "source": [
    "embeddings_2d = np.zeros((TOTOAL_EPOCH, LEN, 2))\n",
    "for i in range(EPOCH_START, EPOCH_END+EPOCH_PERIOD, EPOCH_PERIOD):\n",
    "    e = (i-EPOCH_START)//EPOCH_PERIOD\n",
    "    embeddings_2d[e] = projector.batch_project(i, samples[e])\n",
    "embeddings_2d = np.transpose(embeddings_2d, [1,0,2])"
   ]
  },
  {
   "cell_type": "code",
   "execution_count": 20,
   "metadata": {},
   "outputs": [],
   "source": [
    "path = os.path.join(CONTENT_PATH, \"Model\",\"{}_trajectory_embeddings.npy\".format(VIS_METHOD))\n",
    "np.save(path,embeddings_2d)"
   ]
  },
  {
   "cell_type": "code",
   "execution_count": 21,
   "metadata": {},
   "outputs": [],
   "source": [
    "path = os.path.join(CONTENT_PATH, \"Model\",\"{}_trajectory_embeddings.npy\".format(VIS_METHOD))\n",
    "embeddings_2d = np.load(path)"
   ]
  },
  {
   "cell_type": "code",
   "execution_count": 22,
   "metadata": {},
   "outputs": [
    {
     "name": "stderr",
     "output_type": "stream",
     "text": [
      "100%|██████████| 300/300 [00:00<00:00, 7730.72it/s]\n",
      "100%|██████████| 300/300 [00:00<00:00, 8519.24it/s]\n",
      "100%|██████████| 300/300 [00:00<00:00, 7747.57it/s]\n",
      "100%|██████████| 300/300 [00:00<00:00, 8493.65it/s]\n",
      "100%|██████████| 300/300 [00:00<00:00, 7726.93it/s]\n",
      "100%|██████████| 300/300 [00:00<00:00, 8466.39it/s]\n",
      "100%|██████████| 300/300 [00:00<00:00, 7704.22it/s]\n",
      "100%|██████████| 300/300 [00:00<00:00, 8468.84it/s]\n",
      "100%|██████████| 300/300 [00:00<00:00, 7725.64it/s]\n",
      "100%|██████████| 300/300 [00:00<00:00, 8489.06it/s]\n",
      "100%|██████████| 300/300 [00:00<00:00, 7716.50it/s]\n",
      "100%|██████████| 300/300 [00:00<00:00, 8503.35it/s]\n",
      "100%|██████████| 300/300 [00:00<00:00, 7706.91it/s]\n",
      "100%|██████████| 300/300 [00:00<00:00, 8488.37it/s]\n",
      "100%|██████████| 300/300 [00:00<00:00, 7720.00it/s]\n"
     ]
    }
   ],
   "source": [
    "from scipy.special import softmax\n",
    "uncertainties = np.zeros((TOTOAL_EPOCH, LEN))\n",
    "for epoch in range(EPOCH_START, EPOCH_END+EPOCH_PERIOD, EPOCH_PERIOD):\n",
    "    samples = data_provider.train_representation(epoch)\n",
    "    pred = data_provider.get_pred(epoch, samples)\n",
    "    confidence = np.amax(softmax(pred, axis=1), axis=1)\n",
    "    uncertainty = 1-confidence\n",
    "    uncertainties[(epoch-EPOCH_START)//EPOCH_PERIOD] = uncertainty\n",
    "# TODO trajectory of uncertainty"
   ]
  },
  {
   "cell_type": "code",
   "execution_count": 8,
   "metadata": {},
   "outputs": [
    {
     "data": {
      "text/plain": [
       "(2986,)"
      ]
     },
     "execution_count": 8,
     "metadata": {},
     "output_type": "execute_result"
    }
   ],
   "source": [
    "noise_idxs = np.argwhere(clean_label!=noisy_label).squeeze()\n",
    "noise_idxs.shape"
   ]
  },
  {
   "cell_type": "code",
   "execution_count": 24,
   "metadata": {},
   "outputs": [],
   "source": [
    "from singleVis.trajectory_manager import Recommender\n",
    "import pickle\n",
    "tm = Recommender(uncertainty, embeddings_2d, 30, period=15)\n",
    "tm.clustered()\n",
    "with open(os.path.join(CONTENT_PATH,  '{}_sample_recommender.pkl'.format(VIS_METHOD)), 'wb') as f:\n",
    "    pickle.dump(tm, f, pickle.HIGHEST_PROTOCOL)"
   ]
  },
  {
   "cell_type": "code",
   "execution_count": 27,
   "metadata": {},
   "outputs": [],
   "source": [
    "import pickle\n",
    "VIS_METHOD = \"tfDVI\"\n",
    "with open(os.path.join(CONTENT_PATH,  '{}_sample_recommender.pkl'.format(VIS_METHOD)), 'rb') as f:\n",
    "    tm = pickle.load(f)"
   ]
  },
  {
   "cell_type": "code",
   "execution_count": 28,
   "metadata": {},
   "outputs": [],
   "source": [
    "BUDGET = 10\n",
    "TOLERANCE = 0.1\n",
    "ROUND = 10\n",
    "INIT_ROUND = 10000"
   ]
  },
  {
   "cell_type": "code",
   "execution_count": 29,
   "metadata": {},
   "outputs": [],
   "source": [
    "def add_noise(rate, acc_idxs, rej_idxs):\n",
    "    if rate == 0:\n",
    "        return acc_idxs, rej_idxs\n",
    "    acc_noise = np.random.choice(len(acc_idxs), size=int(len(acc_idxs)*rate))\n",
    "    acc_noise = acc_idxs[acc_noise]\n",
    "    new_acc = np.setdiff1d(acc_idxs, acc_noise)\n",
    "\n",
    "    rej_noise = np.random.choice(len(rej_idxs), size=int(len(rej_idxs)*rate))\n",
    "    rej_noise = rej_idxs[rej_noise]\n",
    "    new_rej = np.setdiff1d(rej_idxs, rej_noise)\n",
    "\n",
    "    new_acc = np.concatenate((new_acc, rej_noise), axis=0)\n",
    "    new_rej = np.concatenate((new_rej, acc_noise), axis=0)\n",
    "    return new_acc, new_rej\n",
    "\n",
    "def init_sampling(tm, method, round, budget):\n",
    "    print(\"Feedback sampling initialization ({}):\".format(method))\n",
    "    init_rate = list()\n",
    "    for _ in range(round):\n",
    "        correct = np.array([]).astype(np.int32)\n",
    "        wrong = np.array([]).astype(np.int32)\n",
    "        selected,_ = tm.sample_batch_init(correct, wrong, budget)\n",
    "        c = np.intersect1d(selected, noise_idxs)\n",
    "        init_rate.append(len(c)/budget)\n",
    "    print(\"Success Rate:\\t{:.4f}\".format(sum(init_rate)/len(init_rate)))\n",
    "    return sum(init_rate)/len(init_rate)\n",
    "\n",
    "def feedback_sampling(tm, method, round, budget, noise_rate=0.0):\n",
    "    # print(\"Feedback sampling ({}) with noise {}:\".format(method, noise_rate))\n",
    "    rate = np.zeros(round)\n",
    "    correct = np.array([]).astype(np.int32)\n",
    "    wrong = np.array([]).astype(np.int32)\n",
    "    selected,_ = tm.sample_batch_init(correct, wrong, budget)\n",
    "    c = np.intersect1d(selected, noise_idxs)\n",
    "    w = np.setdiff1d(selected, c)\n",
    "    correct = np.concatenate((correct, c), axis=0)\n",
    "    wrong = np.concatenate((wrong, w), axis=0)\n",
    "    rate[0] = len(correct)/float(budget)\n",
    "\n",
    "    # inject noise\n",
    "    correct, wrong = add_noise(noise_rate, correct, wrong)\n",
    "\n",
    "    for r in range(1, round, 1):\n",
    "        selected,_,coef_ = tm.sample_batch(correct, wrong, budget, True)\n",
    "        c = np.intersect1d(selected, noise_idxs)\n",
    "        w = np.setdiff1d(selected, c)\n",
    "        rate[r] = len(c)/budget\n",
    "        # inject noise\n",
    "        c, w = add_noise(noise_rate, c, w)\n",
    "\n",
    "        correct = np.concatenate((correct, c), axis=0)\n",
    "        wrong = np.concatenate((wrong, w), axis=0)\n",
    "    # print(\"Success Rate:\\t{:.4f}\".format(rate.mean()))\n",
    "    ac_rate = np.array([rate[:i].mean() for i in range(1, len(rate)+1)])\n",
    "    # print(f'Coef:\\t{coef_}')\n",
    "    # print(f'\"Success Rate:\\t{ac_rate}')\n",
    "    return ac_rate"
   ]
  },
  {
   "cell_type": "code",
   "execution_count": 28,
   "metadata": {},
   "outputs": [
    {
     "data": {
      "text/plain": [
       "(0.9502, 0.9070666666666667, 0.9028166666666667)"
      ]
     },
     "execution_count": 28,
     "metadata": {},
     "output_type": "execute_result"
    }
   ],
   "source": [
    "tm.score_new_sample(embeddings_2d[1][-tm.period:])"
   ]
  },
  {
   "cell_type": "code",
   "execution_count": 47,
   "metadata": {},
   "outputs": [],
   "source": [
    "import pickle\n",
    "VIS_METHOD = \"TimeVis\"\n",
    "with open(os.path.join(CONTENT_PATH,  '{}_sample_recommender.pkl'.format(VIS_METHOD)), 'rb') as f:\n",
    "    tm = pickle.load(f)"
   ]
  },
  {
   "cell_type": "code",
   "execution_count": 33,
   "metadata": {},
   "outputs": [
    {
     "name": "stdout",
     "output_type": "stream",
     "text": [
      "Random sampling init\n",
      "Success Rate:\t0.0492\n"
     ]
    }
   ],
   "source": [
    "# random init\n",
    "print(\"Random sampling init\")\n",
    "s_rate = list()\n",
    "pool = np.arange(LEN)\n",
    "for _ in range(INIT_ROUND):\n",
    "    s_idxs = np.random.choice(pool,size=BUDGET,replace=False)\n",
    "    s_rate.append(len(np.intersect1d(s_idxs, noise_idxs))/BUDGET)\n",
    "print(\"Success Rate:\\t{:.4f}\".format(sum(s_rate)/len(s_rate)))\n"
   ]
  },
  {
   "cell_type": "code",
   "execution_count": 32,
   "metadata": {},
   "outputs": [
    {
     "name": "stdout",
     "output_type": "stream",
     "text": [
      "Feedback sampling initialization (tDVI):\n",
      "Success Rate:\t0.0511\n"
     ]
    },
    {
     "data": {
      "text/plain": [
       "0.05112000000000237"
      ]
     },
     "execution_count": 32,
     "metadata": {},
     "output_type": "execute_result"
    }
   ],
   "source": [
    "# tdvi init\n",
    "init_sampling(tm, method=VIS_METHOD, round=INIT_ROUND, budget=BUDGET)"
   ]
  },
  {
   "cell_type": "code",
   "execution_count": 30,
   "metadata": {},
   "outputs": [
    {
     "name": "stdout",
     "output_type": "stream",
     "text": [
      "Feedback sampling initialization (tfDVI):\n",
      "Success Rate:\t0.0506\n"
     ]
    },
    {
     "data": {
      "text/plain": [
       "0.050630000000002374"
      ]
     },
     "execution_count": 30,
     "metadata": {},
     "output_type": "execute_result"
    }
   ],
   "source": [
    "# dvi init\n",
    "init_sampling(tm, method=VIS_METHOD, round=INIT_ROUND, budget=BUDGET)"
   ]
  },
  {
   "cell_type": "code",
   "execution_count": 48,
   "metadata": {},
   "outputs": [
    {
     "name": "stdout",
     "output_type": "stream",
     "text": [
      "Feedback sampling initialization (TimeVis):\n",
      "Success Rate:\t0.0504\n"
     ]
    },
    {
     "data": {
      "text/plain": [
       "0.05036000000000239"
      ]
     },
     "execution_count": 48,
     "metadata": {},
     "output_type": "execute_result"
    }
   ],
   "source": [
    "# TimeVis init\n",
    "init_sampling(tm, method=VIS_METHOD, round=INIT_ROUND, budget=BUDGET)"
   ]
  },
  {
   "cell_type": "code",
   "execution_count": 39,
   "metadata": {},
   "outputs": [
    {
     "name": "stdout",
     "output_type": "stream",
     "text": [
      "Random sampling feedback\n",
      "Success Rate:\t0.0600\n",
      "[0.1        0.05       0.03333333 0.025      0.04       0.05\n",
      " 0.04285714 0.05       0.05555556 0.06      ]\n"
     ]
    }
   ],
   "source": [
    "# random Feedback\n",
    "print(\"Random sampling feedback\")\n",
    "random_rate = np.zeros(ROUND)\n",
    "pool = np.arange(LEN)\n",
    "for r in range(ROUND):\n",
    "    s_idxs = np.random.choice(pool,size=BUDGET,replace=False)\n",
    "    random_rate[r] = len(np.intersect1d(s_idxs, noise_idxs))/BUDGET\n",
    "    pool = np.setdiff1d(pool, s_idxs)\n",
    "print(\"Success Rate:\\t{:.4f}\".format(sum(random_rate)/len(random_rate)))\n",
    "ac_random_rate = np.array([random_rate[:i].mean() for i in range(1, len(random_rate)+1)])\n",
    "print(ac_random_rate)"
   ]
  },
  {
   "cell_type": "code",
   "execution_count": 42,
   "metadata": {},
   "outputs": [
    {
     "name": "stdout",
     "output_type": "stream",
     "text": [
      "0.47456000000000004 0.06528404399238759\n"
     ]
    }
   ],
   "source": [
    "# tdvi Feedback\n",
    "ac = np.zeros(500)\n",
    "for i in range(500):\n",
    "    ac_rate = feedback_sampling(tm=tm, method=VIS_METHOD, round=ROUND, budget=BUDGET)\n",
    "    ac[i] = ac_rate[-1]\n",
    "print(ac.mean(), ac.std())"
   ]
  },
  {
   "cell_type": "code",
   "execution_count": 45,
   "metadata": {},
   "outputs": [
    {
     "name": "stdout",
     "output_type": "stream",
     "text": [
      "0.43413999999999997 0.12223526659683775\n"
     ]
    }
   ],
   "source": [
    "# dvi Feedback\n",
    "ac = np.zeros(500)\n",
    "for i in range(500):\n",
    "    ac_rate = feedback_sampling(tm=tm, method=VIS_METHOD, round=ROUND, budget=BUDGET)\n",
    "    ac[i] = ac_rate[-1]\n",
    "print(ac.mean(), ac.std())"
   ]
  },
  {
   "cell_type": "code",
   "execution_count": 49,
   "metadata": {},
   "outputs": [
    {
     "name": "stdout",
     "output_type": "stream",
     "text": [
      "0.47746000000000005 0.07743480096184145\n"
     ]
    }
   ],
   "source": [
    "# TimeVis Feedback\n",
    "ac = np.zeros(500)\n",
    "for i in range(500):\n",
    "    ac_rate = feedback_sampling(tm=tm, method=VIS_METHOD, round=ROUND, budget=BUDGET)\n",
    "    ac[i] = ac_rate[-1]\n",
    "print(ac.mean(), ac.std())"
   ]
  },
  {
   "cell_type": "code",
   "execution_count": 43,
   "metadata": {},
   "outputs": [
    {
     "name": "stdout",
     "output_type": "stream",
     "text": [
      "0.47046000000000004 0.0643676036527693\n"
     ]
    }
   ],
   "source": [
    "# tdvi Feedback\n",
    "ac = np.zeros(500)\n",
    "for i in range(500):\n",
    "    ac_rate = feedback_sampling(tm=tm, method=VIS_METHOD, round=ROUND, budget=BUDGET, noise_rate=0.05)\n",
    "    ac[i] = ac_rate[-1]\n",
    "print(ac.mean(), ac.std())"
   ]
  },
  {
   "cell_type": "code",
   "execution_count": 46,
   "metadata": {},
   "outputs": [
    {
     "name": "stdout",
     "output_type": "stream",
     "text": [
      "0.44256 0.10269297152191087\n"
     ]
    }
   ],
   "source": [
    "# dvi Feedback\n",
    "ac = np.zeros(500)\n",
    "for i in range(500):\n",
    "    ac_rate = feedback_sampling(tm=tm, method=VIS_METHOD, round=ROUND, budget=BUDGET, noise_rate=0.05)\n",
    "    ac[i] = ac_rate[-1]\n",
    "print(ac.mean(), ac.std())"
   ]
  },
  {
   "cell_type": "code",
   "execution_count": 51,
   "metadata": {},
   "outputs": [
    {
     "name": "stdout",
     "output_type": "stream",
     "text": [
      "0.48102 0.059625159119284545\n"
     ]
    }
   ],
   "source": [
    "# TimeVis Feedback with noise\n",
    "ac = np.zeros(500)\n",
    "for i in range(500):\n",
    "    ac_rate = feedback_sampling(tm=tm, method=VIS_METHOD, round=ROUND, budget=BUDGET, noise_rate=0.05)\n",
    "    ac[i] = ac_rate[-1]\n",
    "print(ac.mean(), ac.std())"
   ]
  }
 ],
 "metadata": {
  "kernelspec": {
   "display_name": "Python 3.7.12 ('SV')",
   "language": "python",
   "name": "python3"
  },
  "language_info": {
   "codemirror_mode": {
    "name": "ipython",
    "version": 3
   },
   "file_extension": ".py",
   "mimetype": "text/x-python",
   "name": "python",
   "nbconvert_exporter": "python",
   "pygments_lexer": "ipython3",
   "version": "3.7.12"
  },
  "orig_nbformat": 4,
  "vscode": {
   "interpreter": {
    "hash": "aa7a9f36e1a1e240450dbe9cc8f6d8df1d5301f36681fb271c44fdd883236b60"
   }
  }
 },
 "nbformat": 4,
 "nbformat_minor": 2
}
