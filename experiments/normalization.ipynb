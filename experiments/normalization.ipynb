{
 "cells": [
  {
   "cell_type": "code",
   "execution_count": 1,
   "metadata": {},
   "outputs": [],
   "source": [
    "import torch\n",
    "import torch.nn as nn"
   ]
  },
  {
   "cell_type": "code",
   "execution_count": 12,
   "metadata": {},
   "outputs": [],
   "source": [
    "batch_size = 20\n",
    "num_channels = 10\n",
    "height = 5\n",
    "width = 6\n",
    "a = torch.rand(batch_size, num_channels, height, width)"
   ]
  },
  {
   "cell_type": "code",
   "execution_count": 11,
   "metadata": {},
   "outputs": [
    {
     "data": {
      "text/plain": [
       "tensor([[0.0884, 0.1019, 0.0885, 0.0842, 0.0686, 0.0827, 0.1006, 0.1028, 0.0998,\n",
       "         0.0741]])"
      ]
     },
     "execution_count": 11,
     "metadata": {},
     "output_type": "execute_result"
    }
   ],
   "source": [
    "a.var(dim=0, unbiased=False, keepdim=True).shape"
   ]
  },
  {
   "cell_type": "code",
   "execution_count": null,
   "metadata": {},
   "outputs": [],
   "source": [
    "class BatchNorm1d(nn.Module):\n",
    "    def __init__(self, num_features, eps=1e-5, momentum=0.1) -> None:\n",
    "        super().__init__()\n",
    "        self.num_features = num_features\n",
    "        self.eps = eps\n",
    "        self.momentum = momentum\n",
    "\n",
    "        # Initialize parameters\n",
    "        self.gamma = nn.parameter(torch.ones(1, num_features))\n",
    "        self.beta = nn.Parameter(torch.zeros(1, num_features))\n",
    "        self.register_buffer('running_mean', torch.zeros(1, num_features))\n",
    "        self.register_buffer('running_var', torch.ones(1, num_features))\n",
    "    \n",
    "    def forward(self, x):\n",
    "        if self.training:\n",
    "            mean = x.mean(dim=0, keepdim=True)\n",
    "            var = x.var(dim=0, unbiased=False, keepdim=True)\n",
    "            self.running_mean = (1-self.momentum)*self.running_mean+self.momentum*mean\n",
    "            self.running_var = (1-self.momentum)*self.running_var + self.momentum*var\n",
    "        else:\n",
    "            mean = self.running_mean\n",
    "            var = self.running_var\n",
    "        \n",
    "        x_normalized = (x-mean)/torch.sqrt(var+self.eps)\n",
    "\n",
    "        out = self.gamma*x_normalized + self.beta\n",
    "        return out"
   ]
  },
  {
   "cell_type": "code",
   "execution_count": null,
   "metadata": {},
   "outputs": [],
   "source": [
    "class LayerNorm(nn.Module):\n",
    "    def __init__(self, normalized_shape, eps=1e-5) -> None:\n",
    "        super().__init__()\n",
    "        self.normalized_shape = normalized_shape\n",
    "        self.eps = eps\n",
    "\n",
    "        # initialize parameters\n",
    "        self.gamma = nn.parameter(torch.ones(normalized_shape))\n",
    "        self.beta = nn.Parameter(torch.zeros(normalized_shape))\n",
    "\n",
    "    def forward(self, x):\n",
    "        mean = x.mean(dim=-1, keepdim=True)\n",
    "        var = x.var(dim=-1, unbiased=False, keepdim=True)\n",
    "\n",
    "        x_normalized = (x - mean)/torch.sqrt(var+self.eps)\n",
    "        out = self.gamma*x_normalized+self.beta\n",
    "        return out"
   ]
  },
  {
   "cell_type": "code",
   "execution_count": null,
   "metadata": {},
   "outputs": [],
   "source": [
    "class InstanceNorm(nn.Module):\n",
    "    def __init__(self, num_features, eps=1e-5) -> None:\n",
    "        super().__init__()\n",
    "\n",
    "        self.num_features = num_features\n",
    "        self.eps = eps\n",
    "\n",
    "        # Initialize parameters\n",
    "        self.gamma = nn.Parameter(torch.ones(1,num_features,1,1))\n",
    "        self.beta = nn.parameter(torch.zeros(1, num_features, 1,1))\n",
    "\n",
    "    def forward(self, x):\n",
    "        mean = x.mean(dim=(2,3), keepdim=True)\n",
    "        var = x.var(dim=(2,3), unbiased=False, keepdim=True)\n",
    "\n",
    "        x_normalized = (x - mean)/torch.sqrt(var+self.eps)\n",
    "        out = self.gamma*x_normalized+self.beta\n",
    "        return out"
   ]
  },
  {
   "cell_type": "code",
   "execution_count": null,
   "metadata": {},
   "outputs": [],
   "source": [
    "class GroupNorm(nn.Module):\n",
    "    def __init__(self, num_groups, num_channels, eps=1e-5) -> None:\n",
    "        super().__init__()\n",
    "        self.num_groups = num_groups\n",
    "        self.num_channels = num_channels\n",
    "        self.eps = eps\n",
    "\n",
    "        # Initialize parameters\n",
    "        self.gamma = nn.Parameter(torch.ones(1, num_channels, 1, 1))\n",
    "        self.beta = nn.Parameter(torch.zeros(1, num_channels, 1, 1))\n",
    "\n",
    "    def forward(self, x):\n",
    "        batch_size, num_channels, height, width = x.size()\n",
    "        num_channels_per_group = num_channels // self.num_groups\n",
    "        x = x.view(batch_size, self.num_groups, num_channels_per_group, height, width)\n",
    "\n",
    "        # compute mean and variance per group\n",
    "        mean = x.mean(dim=(2,3,4), keepdim=True)\n",
    "        var = x.var(dim=(2,3,4), unbiased=False, keepdim=True)\n",
    "\n",
    "        # normalize x within each group\n",
    "        x_normalized = (x-mean)/ torch.sqrt(var+self.eps)\n",
    "\n",
    "        # reshape back to the original shape\n",
    "        x_normalized = x_normalized.view(batch_size, num_channels, height, width)\n",
    "\n",
    "        # scale and shift using learned parameters\n",
    "        out = x_normalized * self.gamma + self.beta\n",
    "        return out\n"
   ]
  }
 ],
 "metadata": {
  "kernelspec": {
   "display_name": "SV",
   "language": "python",
   "name": "python3"
  },
  "language_info": {
   "codemirror_mode": {
    "name": "ipython",
    "version": 3
   },
   "file_extension": ".py",
   "mimetype": "text/x-python",
   "name": "python",
   "nbconvert_exporter": "python",
   "pygments_lexer": "ipython3",
   "version": "3.7.12"
  },
  "orig_nbformat": 4
 },
 "nbformat": 4,
 "nbformat_minor": 2
}
