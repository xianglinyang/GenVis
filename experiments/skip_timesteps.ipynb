{
 "cells": [
  {
   "cell_type": "markdown",
   "metadata": {},
   "source": [
    "# Load module"
   ]
  },
  {
   "cell_type": "code",
   "execution_count": 1,
   "metadata": {},
   "outputs": [
    {
     "name": "stderr",
     "output_type": "stream",
     "text": [
      "2023-09-19 10:35:27.636044: I tensorflow/core/platform/cpu_feature_guard.cc:182] This TensorFlow binary is optimized to use available CPU instructions in performance-critical operations.\n",
      "To enable the following instructions: AVX2 FMA, in other operations, rebuild TensorFlow with the appropriate compiler flags.\n",
      "2023-09-19 10:35:28.892224: W tensorflow/compiler/tf2tensorrt/utils/py_utils.cc:38] TF-TRT Warning: Could not find TensorRT\n"
     ]
    }
   ],
   "source": [
    "import os, sys\n",
    "import json\n",
    "import torch\n",
    "import numpy as np\n",
    "import torch.nn as nn\n",
    "import torch.optim as optim\n",
    "\n",
    "from scipy.spatial import distance\n",
    "from scipy import stats\n",
    "\n",
    "sys.path.append(\"..\")\n",
    "from singleVis.data import NormalDataProvider\n",
    "from singleVis.projector import DVIProjector\n",
    "from singleVis.vis_models import vis_models as vmodels"
   ]
  },
  {
   "cell_type": "code",
   "execution_count": 2,
   "metadata": {},
   "outputs": [],
   "source": [
    "VIS_METHOD = \"tDVI\" # DeepVisualInsight\n",
    "CONTENT_PATH = \"/home/xianglin/projects/DVI_data/resnet18_mnist\"\n",
    "# CONTENT_PATH = \"/home/xianglin/projects/DVI_data/BadNet_MNIST_noise\"\n",
    "GPU_ID = \"0\""
   ]
  },
  {
   "cell_type": "code",
   "execution_count": 3,
   "metadata": {},
   "outputs": [],
   "source": [
    "sys.path.append(CONTENT_PATH)\n",
    "with open(os.path.join(CONTENT_PATH, \"config.json\"), \"r\") as f:\n",
    "    config = json.load(f)\n",
    "config = config[VIS_METHOD]"
   ]
  },
  {
   "cell_type": "code",
   "execution_count": 4,
   "metadata": {},
   "outputs": [],
   "source": [
    "SETTING = config[\"SETTING\"]\n",
    "CLASSES = config[\"CLASSES\"]\n",
    "DATASET = config[\"DATASET\"]\n",
    "PREPROCESS = config[\"VISUALIZATION\"][\"PREPROCESS\"]\n",
    "\n",
    "# Training parameter (subject model)\n",
    "TRAINING_PARAMETER = config[\"TRAINING\"]\n",
    "NET = TRAINING_PARAMETER[\"NET\"]\n",
    "LEN = TRAINING_PARAMETER[\"train_num\"]\n",
    "EPOCH_START = config[\"EPOCH_START\"]\n",
    "EPOCH_END = config[\"EPOCH_END\"]\n",
    "EPOCH_PERIOD = config[\"EPOCH_PERIOD\"]\n",
    "EPOCH_NAME = config[\"EPOCH_NAME\"]\n",
    "\n",
    "# Training parameter (visualization model)\n",
    "VISUALIZATION_PARAMETER = config[\"VISUALIZATION\"]\n",
    "VIS_MODEL = VISUALIZATION_PARAMETER['VIS_MODEL']\n",
    "LAMBDA = VISUALIZATION_PARAMETER[\"LAMBDA\"]\n",
    "B_N_EPOCHS = VISUALIZATION_PARAMETER[\"BOUNDARY\"][\"B_N_EPOCHS\"]\n",
    "L_BOUND = VISUALIZATION_PARAMETER[\"BOUNDARY\"][\"L_BOUND\"]\n",
    "ENCODER_DIMS = VISUALIZATION_PARAMETER[\"ENCODER_DIMS\"]\n",
    "DECODER_DIMS = VISUALIZATION_PARAMETER[\"DECODER_DIMS\"]\n",
    "S_N_EPOCHS = VISUALIZATION_PARAMETER[\"S_N_EPOCHS\"]\n",
    "N_NEIGHBORS = VISUALIZATION_PARAMETER[\"N_NEIGHBORS\"]\n",
    "PATIENT = VISUALIZATION_PARAMETER[\"PATIENT\"]\n",
    "MAX_EPOCH = VISUALIZATION_PARAMETER[\"MAX_EPOCH\"]\n",
    "\n",
    "# Define hyperparameters\n",
    "# DEVICE = torch.device(\"cuda:{}\".format(GPU_ID) if torch.cuda.is_available() else \"cpu\")\n",
    "DEVICE = torch.device(\"cpu\")"
   ]
  },
  {
   "cell_type": "code",
   "execution_count": 5,
   "metadata": {},
   "outputs": [],
   "source": [
    "import Model.model as subject_model\n",
    "net = eval(\"subject_model.{}()\".format(NET))"
   ]
  },
  {
   "cell_type": "code",
   "execution_count": 6,
   "metadata": {},
   "outputs": [
    {
     "name": "stdout",
     "output_type": "stream",
     "text": [
      "Finish initialization...\n"
     ]
    }
   ],
   "source": [
    "# Define data_provider\n",
    "data_provider = NormalDataProvider(CONTENT_PATH, net, EPOCH_START, EPOCH_END, EPOCH_PERIOD, device=DEVICE, classes=CLASSES, epoch_name=EPOCH_NAME, verbose=1)\n",
    "if PREPROCESS:\n",
    "    data_provider._meta_data()\n",
    "    if B_N_EPOCHS >0:\n",
    "        data_provider._estimate_boundary(LEN//10, l_bound=L_BOUND)"
   ]
  },
  {
   "cell_type": "markdown",
   "metadata": {},
   "source": [
    "# uncertainty estimation"
   ]
  },
  {
   "cell_type": "code",
   "execution_count": 20,
   "metadata": {},
   "outputs": [],
   "source": [
    "def uncertainty_measure(prev_data, next_data):\n",
    "    mean_t = prev_data.mean(axis=0)\n",
    "    std_t = prev_data.std(axis=0)\n",
    "    mean_tk = next_data.mean(axis=0)\n",
    "    std_tk = next_data.std(axis=0)\n",
    "    # Method 2: Sum of Z-scores (averaged over all features)\n",
    "    z_score = np.abs(mean_tk - mean_t) / (np.sqrt(std_t ** 2 + std_tk ** 2)+5E-4)\n",
    "    uncertainty1 = np.mean(z_score)\n",
    "    # print(f\"{uncertainty1*100:.2f}\", \"%\")\n",
    "\n",
    "    # # Method 3: Euclidean Distance in Mean-Std Space (averaged over all features)\n",
    "    # uncertainty2 = np.mean(np.sqrt((mean_tk - mean_t)**2 + (std_tk - std_t)**2))\n",
    "    # # print(f\"{uncertainty2*100:.2f}\", \"%\")\n",
    "\n",
    "    # # Method 4: Mahalanobis Distance (simplified, averaged over all features)\n",
    "    # uncertainty3 = np.mean(np.sqrt((mean_tk - mean_t)**2 / (std_t+5E-4) + (std_tk - std_t)**2 / (std_t+5E-4)))\n",
    "    # # print(f\"{uncertainty3*100:.2f}\", \"%\")\n",
    "\n",
    "    # # Assuming variables are uncorrelated, create diagonal covariance matrices\n",
    "    # covariance_matrix_t = np.diag(std_t**2)\n",
    "\n",
    "    # # Calculate the Mahalanobis distance\n",
    "    # uncertainty4 = distance.mahalanobis(mean_t, mean_tk, np.linalg.inv(covariance_matrix_t))\n",
    "    # return uncertainty1, uncertainty2, uncertainty3, uncertainty4\n",
    "    return uncertainty1\n"
   ]
  },
  {
   "cell_type": "code",
   "execution_count": 21,
   "metadata": {},
   "outputs": [],
   "source": [
    "u1 = np.zeros(20)\n",
    "u2 = np.zeros(20)\n",
    "u3 = np.zeros(20)\n",
    "u4 = np.zeros(20)\n",
    "for i in range(1,21,1):\n",
    "    # for j in range(, i+2, 1):\n",
    "    j=1\n",
    "    prev_data = data_provider.train_representation(i)\n",
    "    next_data = data_provider.train_representation(j)\n",
    "    u1[i-1] = uncertainty_measure(prev_data, next_data)"
   ]
  },
  {
   "cell_type": "code",
   "execution_count": 10,
   "metadata": {},
   "outputs": [
    {
     "data": {
      "text/plain": [
       "(PearsonRResult(statistic=0.9991827160274641, pvalue=1.5024838909406798e-68),\n",
       " PearsonRResult(statistic=0.9803757553415657, pvalue=1.6454616619760446e-35),\n",
       " PearsonRResult(statistic=0.995817163320422, pvalue=1.5100968983748353e-51))"
      ]
     },
     "execution_count": 10,
     "metadata": {},
     "output_type": "execute_result"
    }
   ],
   "source": [
    "from scipy import stats\n",
    "stats.pearsonr(u1,u4),stats.pearsonr(u2,u4),stats.pearsonr(u3,u4)"
   ]
  },
  {
   "cell_type": "markdown",
   "metadata": {},
   "source": [
    "## check continuity"
   ]
  },
  {
   "cell_type": "code",
   "execution_count": 7,
   "metadata": {},
   "outputs": [],
   "source": [
    "VIS_MODEL_NAME = \"tDVI_cnAE_sequence\"\n",
    "VIS_MODEL = \"cnAE\"\n",
    "model = vmodels[VIS_MODEL](ENCODER_DIMS, DECODER_DIMS)\n",
    "projector = DVIProjector(vis_model=model, content_path=CONTENT_PATH, vis_model_name=VIS_MODEL_NAME, epoch_name=EPOCH_NAME, device=DEVICE)"
   ]
  },
  {
   "cell_type": "code",
   "execution_count": 22,
   "metadata": {},
   "outputs": [],
   "source": [
    "prev_e = 1\n",
    "next_e = 200\n",
    "\n",
    "prev_data = data_provider.train_representation(prev_e)\n",
    "next_data = data_provider.train_representation(next_e)"
   ]
  },
  {
   "cell_type": "code",
   "execution_count": 23,
   "metadata": {},
   "outputs": [],
   "source": [
    "prev_low = projector.batch_project(prev_e, prev_data)\n",
    "next_low = projector.batch_project(next_e, next_data)\n",
    "estimated_next_low = projector.batch_project(prev_e, next_data)"
   ]
  },
  {
   "cell_type": "code",
   "execution_count": 24,
   "metadata": {},
   "outputs": [
    {
     "data": {
      "text/plain": [
       "(array([ 7.289774, 14.076332], dtype=float32),\n",
       " array([35.418564, 39.14397 ], dtype=float32))"
      ]
     },
     "execution_count": 24,
     "metadata": {},
     "output_type": "execute_result"
    }
   ],
   "source": [
    "np.ptp(prev_low, axis=0), np.ptp(next_low, axis=0)"
   ]
  },
  {
   "cell_type": "code",
   "execution_count": 11,
   "metadata": {},
   "outputs": [],
   "source": [
    "high_change = np.array([distance.cosine(prev_data[i], next_data[i]) for i in range(len(prev_data))])\n",
    "low_change = np.linalg.norm(next_low-prev_low, axis=1)\n",
    "estimated_low_change = np.linalg.norm(estimated_next_low-prev_low, axis=1)"
   ]
  },
  {
   "cell_type": "code",
   "execution_count": 26,
   "metadata": {},
   "outputs": [
    {
     "data": {
      "text/plain": [
       "(array([35.418564, 39.14397 ], dtype=float32),\n",
       " 0.29030046,\n",
       " 7.110312,\n",
       " 0.0008733035)"
      ]
     },
     "execution_count": 26,
     "metadata": {},
     "output_type": "execute_result"
    }
   ],
   "source": [
    "(next_low).ptp(0), low_change.mean(), low_change.max(), low_change.min()"
   ]
  },
  {
   "cell_type": "code",
   "execution_count": 27,
   "metadata": {},
   "outputs": [
    {
     "data": {
      "text/plain": [
       "(array([34.960976, 38.18923 ], dtype=float32),\n",
       " 0.14219756,\n",
       " 2.8431973,\n",
       " 0.00032067572)"
      ]
     },
     "execution_count": 27,
     "metadata": {},
     "output_type": "execute_result"
    }
   ],
   "source": [
    "(estimated_next_low).ptp(0), estimated_low_change.mean(), estimated_low_change.max(), estimated_low_change.min()"
   ]
  },
  {
   "cell_type": "code",
   "execution_count": 23,
   "metadata": {},
   "outputs": [
    {
     "data": {
      "text/plain": [
       "0.019268101446479047"
      ]
     },
     "execution_count": 23,
     "metadata": {},
     "output_type": "execute_result"
    }
   ],
   "source": [
    "from sklearn.neighbors import NearestNeighbors\n",
    "nbrs = NearestNeighbors(n_neighbors=2, algorithm='ball_tree').fit(prev_low)\n",
    "distances, _ = nbrs.kneighbors(prev_low)\n",
    "distances[:, 1].mean()"
   ]
  },
  {
   "cell_type": "code",
   "execution_count": 24,
   "metadata": {},
   "outputs": [
    {
     "data": {
      "text/plain": [
       "0.015055993343098498"
      ]
     },
     "execution_count": 24,
     "metadata": {},
     "output_type": "execute_result"
    }
   ],
   "source": [
    "nbrs = NearestNeighbors(n_neighbors=2, algorithm='ball_tree').fit(estimated_next_low)\n",
    "distances, _ = nbrs.kneighbors(estimated_next_low)\n",
    "distances[:, 1].mean()"
   ]
  },
  {
   "cell_type": "code",
   "execution_count": null,
   "metadata": {},
   "outputs": [],
   "source": [
    "print(\"True\", stats.spearmanr(high_change, low_change))\n",
    "print(\"Estimated High\", stats.spearmanr(high_change, estimated_low_change))"
   ]
  },
  {
   "cell_type": "markdown",
   "metadata": {},
   "source": [
    "## check skip epoch similarity"
   ]
  },
  {
   "cell_type": "code",
   "execution_count": 34,
   "metadata": {},
   "outputs": [
    {
     "name": "stdout",
     "output_type": "stream",
     "text": [
      "/home/xianglin/projects/DVI_data/resnet18_fmnist/Model/Epoch_1/tDVI_cnAE_estimation.pth\n",
      "1 5 0.2230496001760165\n",
      "[25.074665 18.206139]\n",
      "/home/xianglin/projects/DVI_data/resnet18_fmnist/Model/Epoch_2/tDVI_cnAE_estimation.pth\n",
      "2 6 0.17494861816664536\n",
      "[24.953505 18.175526]\n",
      "/home/xianglin/projects/DVI_data/resnet18_fmnist/Model/Epoch_3/tDVI_cnAE_estimation.pth\n",
      "3 7 0.1724971355120341\n",
      "[24.931423 17.5709  ]\n",
      "/home/xianglin/projects/DVI_data/resnet18_fmnist/Model/Epoch_4/tDVI_cnAE_estimation.pth\n",
      "4 8 0.17659039916197458\n",
      "[24.510033 17.410112]\n",
      "/home/xianglin/projects/DVI_data/resnet18_fmnist/Model/Epoch_5/tDVI_cnAE_estimation.pth\n",
      "5 9 0.17508498757067922\n",
      "[24.400787 17.268433]\n",
      "/home/xianglin/projects/DVI_data/resnet18_fmnist/Model/Epoch_6/tDVI_cnAE_estimation.pth\n",
      "6 10 0.1817902295342199\n",
      "[24.333866 17.286922]\n",
      "/home/xianglin/projects/DVI_data/resnet18_fmnist/Model/Epoch_7/tDVI_cnAE_estimation.pth\n",
      "7 11 0.17609081199030124\n",
      "[24.303978 17.085386]\n",
      "/home/xianglin/projects/DVI_data/resnet18_fmnist/Model/Epoch_8/tDVI_cnAE_estimation.pth\n",
      "8 12 0.17645663394478786\n",
      "[24.719055 17.768988]\n",
      "/home/xianglin/projects/DVI_data/resnet18_fmnist/Model/Epoch_9/tDVI_cnAE_estimation.pth\n",
      "9 13 0.16433042018389568\n",
      "[24.680931 17.185137]\n",
      "/home/xianglin/projects/DVI_data/resnet18_fmnist/Model/Epoch_10/tDVI_cnAE_estimation.pth\n",
      "10 14 0.15239890614831206\n",
      "[24.799198 17.28141 ]\n",
      "/home/xianglin/projects/DVI_data/resnet18_fmnist/Model/Epoch_11/tDVI_cnAE_estimation.pth\n",
      "11 15 0.13561264141928847\n",
      "[24.565071 17.071323]\n",
      "/home/xianglin/projects/DVI_data/resnet18_fmnist/Model/Epoch_12/tDVI_cnAE_estimation.pth\n",
      "12 16 0.13012666945058055\n",
      "[24.593996 17.043165]\n",
      "/home/xianglin/projects/DVI_data/resnet18_fmnist/Model/Epoch_13/tDVI_cnAE_estimation.pth\n",
      "13 17 0.1139630231653437\n",
      "[24.706892 17.008957]\n",
      "/home/xianglin/projects/DVI_data/resnet18_fmnist/Model/Epoch_14/tDVI_cnAE_estimation.pth\n",
      "14 18 0.10742198887065295\n",
      "[25.404217 17.928276]\n",
      "/home/xianglin/projects/DVI_data/resnet18_fmnist/Model/Epoch_15/tDVI_cnAE_estimation.pth\n",
      "15 19 0.0851275474784533\n",
      "[25.116825 17.402805]\n",
      "/home/xianglin/projects/DVI_data/resnet18_fmnist/Model/Epoch_16/tDVI_cnAE_estimation.pth\n",
      "16 20 0.08327199744165295\n",
      "[25.843716 17.47268 ]\n",
      "/home/xianglin/projects/DVI_data/resnet18_fmnist/Model/Epoch_17/tDVI_cnAE_estimation.pth\n",
      "17 21 0.07658851329935953\n",
      "[25.247353 17.127106]\n",
      "/home/xianglin/projects/DVI_data/resnet18_fmnist/Model/Epoch_18/tDVI_cnAE_estimation.pth\n",
      "18 22 0.07407841132118564\n",
      "[25.135206 17.583097]\n",
      "/home/xianglin/projects/DVI_data/resnet18_fmnist/Model/Epoch_19/tDVI_cnAE_estimation.pth\n",
      "19 23 0.055964626358975526\n",
      "[25.580528 18.204216]\n",
      "/home/xianglin/projects/DVI_data/resnet18_fmnist/Model/Epoch_20/tDVI_cnAE_estimation.pth\n",
      "20 24 0.0728285238372222\n",
      "[25.47325  19.001125]\n",
      "/home/xianglin/projects/DVI_data/resnet18_fmnist/Model/Epoch_21/tDVI_cnAE_estimation.pth\n",
      "21 25 0.05324264062420828\n",
      "[25.854794 18.604946]\n",
      "/home/xianglin/projects/DVI_data/resnet18_fmnist/Model/Epoch_22/tDVI_cnAE_estimation.pth\n",
      "22 26 0.046455864762386986\n",
      "[26.689562 18.77644 ]\n",
      "/home/xianglin/projects/DVI_data/resnet18_fmnist/Model/Epoch_23/tDVI_cnAE_estimation.pth\n",
      "23 27 0.04092966535850733\n",
      "[25.353683 18.794895]\n",
      "/home/xianglin/projects/DVI_data/resnet18_fmnist/Model/Epoch_24/tDVI_cnAE_estimation.pth\n",
      "24 28 0.0453324129227303\n",
      "[25.555363 18.746658]\n",
      "/home/xianglin/projects/DVI_data/resnet18_fmnist/Model/Epoch_25/tDVI_cnAE_estimation.pth\n",
      "25 29 0.03689523803144985\n",
      "[25.438843 19.314732]\n",
      "/home/xianglin/projects/DVI_data/resnet18_fmnist/Model/Epoch_26/tDVI_cnAE_estimation.pth\n",
      "26 30 0.03660071394961883\n",
      "[26.085474 19.873753]\n",
      "/home/xianglin/projects/DVI_data/resnet18_fmnist/Model/Epoch_27/tDVI_cnAE_estimation.pth\n",
      "27 31 0.03110472079768523\n",
      "[26.049313 19.114082]\n",
      "/home/xianglin/projects/DVI_data/resnet18_fmnist/Model/Epoch_28/tDVI_cnAE_estimation.pth\n",
      "28 32 0.030126128628577567\n",
      "[27.14413  18.557404]\n",
      "/home/xianglin/projects/DVI_data/resnet18_fmnist/Model/Epoch_29/tDVI_cnAE_estimation.pth\n",
      "29 33 0.029018916842195982\n",
      "[25.191048 19.381157]\n",
      "/home/xianglin/projects/DVI_data/resnet18_fmnist/Model/Epoch_30/tDVI_cnAE_estimation.pth\n",
      "30 34 0.026041529438401646\n",
      "[26.033527 21.303612]\n",
      "/home/xianglin/projects/DVI_data/resnet18_fmnist/Model/Epoch_31/tDVI_cnAE_estimation.pth\n",
      "31 35 0.023079578347145444\n",
      "[25.758888 19.705204]\n",
      "/home/xianglin/projects/DVI_data/resnet18_fmnist/Model/Epoch_32/tDVI_cnAE_estimation.pth\n",
      "32 36 0.023618160922677833\n",
      "[26.670366 21.5146  ]\n",
      "/home/xianglin/projects/DVI_data/resnet18_fmnist/Model/Epoch_33/tDVI_cnAE_estimation.pth\n",
      "33 37 0.0191266448320202\n",
      "[25.79795  19.774933]\n",
      "/home/xianglin/projects/DVI_data/resnet18_fmnist/Model/Epoch_34/tDVI_cnAE_estimation.pth\n",
      "34 38 0.021654933868221992\n",
      "[26.34813  18.857302]\n",
      "/home/xianglin/projects/DVI_data/resnet18_fmnist/Model/Epoch_35/tDVI_cnAE_estimation.pth\n",
      "35 39 0.021302398534780262\n",
      "[26.039352 19.699242]\n",
      "/home/xianglin/projects/DVI_data/resnet18_fmnist/Model/Epoch_36/tDVI_cnAE_estimation.pth\n",
      "36 40 0.016311908258475075\n",
      "[25.78402  20.116386]\n",
      "/home/xianglin/projects/DVI_data/resnet18_fmnist/Model/Epoch_37/tDVI_cnAE_estimation.pth\n",
      "37 41 0.011702907695238452\n",
      "[25.727076 19.730991]\n",
      "/home/xianglin/projects/DVI_data/resnet18_fmnist/Model/Epoch_38/tDVI_cnAE_estimation.pth\n",
      "38 42 0.010714442451814833\n",
      "[26.153387 20.91473 ]\n",
      "/home/xianglin/projects/DVI_data/resnet18_fmnist/Model/Epoch_39/tDVI_cnAE_estimation.pth\n",
      "39 43 0.0060323229409431495\n",
      "[25.765976 19.336025]\n",
      "/home/xianglin/projects/DVI_data/resnet18_fmnist/Model/Epoch_40/tDVI_cnAE_estimation.pth\n",
      "40 44 0.0037957127748543163\n",
      "[26.517052 19.379   ]\n",
      "/home/xianglin/projects/DVI_data/resnet18_fmnist/Model/Epoch_41/tDVI_cnAE_estimation.pth\n",
      "41 45 0.0017193942685875183\n",
      "[25.673176 19.140713]\n",
      "/home/xianglin/projects/DVI_data/resnet18_fmnist/Model/Epoch_42/tDVI_cnAE_estimation.pth\n",
      "42 46 0.00033798225985398036\n",
      "[26.024567 20.29356 ]\n",
      "/home/xianglin/projects/DVI_data/resnet18_fmnist/Model/Epoch_43/tDVI_cnAE_estimation.pth\n",
      "43 47 0.0001522224352304816\n",
      "[25.5074   19.875965]\n",
      "/home/xianglin/projects/DVI_data/resnet18_fmnist/Model/Epoch_44/tDVI_cnAE_estimation.pth\n",
      "44 48 7.010957064011313e-05\n",
      "[26.438751 20.719297]\n",
      "/home/xianglin/projects/DVI_data/resnet18_fmnist/Model/Epoch_45/tDVI_cnAE_estimation.pth\n",
      "45 49 5.92010860038761e-05\n",
      "[25.799866 19.037766]\n",
      "/home/xianglin/projects/DVI_data/resnet18_fmnist/Model/Epoch_46/tDVI_cnAE_estimation.pth\n",
      "46 50 0.00014884900529097192\n",
      "[27.232887 19.484251]\n"
     ]
    }
   ],
   "source": [
    "for i in range(5,51,1):\n",
    "    j = i-4\n",
    "    prev_data = data_provider.train_representation(j)\n",
    "    next_data = data_provider.train_representation(i)\n",
    "    prev_low = projector.batch_project(j, prev_data)\n",
    "    high_change = np.array([distance.cosine(prev_data[k], next_data[k]) for k in range(len(prev_data))])\n",
    "    print(j,i, high_change.mean())\n",
    "    print(prev_low.ptp(0))"
   ]
  },
  {
   "cell_type": "markdown",
   "metadata": {},
   "source": [
    "# eval temporal"
   ]
  },
  {
   "cell_type": "code",
   "execution_count": 7,
   "metadata": {},
   "outputs": [],
   "source": [
    "from singleVis.eval.evaluator import Evaluator\n",
    "from singleVis.eval.evaluate import *"
   ]
  },
  {
   "cell_type": "code",
   "execution_count": 17,
   "metadata": {},
   "outputs": [],
   "source": [
    "from singleVis.projector import TimeVisProjector\n",
    "from singleVis.SingleVisualizationModel import VisModel\n",
    "ENCODER_DIMS = [512,256,256,256,256,256,2]\n",
    "DECODER_DIMS = [2,256,256,256,256,256,512]\n",
    "# ENCODER_DIMS = [512,256,2]\n",
    "# DECODER_DIMS = [2,256,512]\n",
    "VIS_MODEL_NAME = \"timevis\"\n",
    "model = VisModel(ENCODER_DIMS, DECODER_DIMS)\n",
    "projector = TimeVisProjector(vis_model=model, content_path=CONTENT_PATH, vis_model_name=VIS_MODEL_NAME, device=DEVICE)\n",
    "evaluator = Evaluator(data_provider, projector, metric=\"euclidean\")"
   ]
  },
  {
   "cell_type": "code",
   "execution_count": 16,
   "metadata": {},
   "outputs": [],
   "source": [
    "from singleVis.projector import tfDVIProjector\n",
    "from singleVis.eval.evaluator import Evaluator\n",
    "flag = \"_temporal_id_withoutB\"\n",
    "projector = tfDVIProjector(CONTENT_PATH, flag=flag)\n",
    "evaluator = Evaluator(data_provider, projector, metric=\"euclidean\")"
   ]
  },
  {
   "cell_type": "code",
   "execution_count": 14,
   "metadata": {},
   "outputs": [],
   "source": [
    "VIS_MODEL_NAME = \"tDVI_cnAE_full_skip\"\n",
    "VIS_MODEL = \"cnAE\"\n",
    "model = vmodels[VIS_MODEL](ENCODER_DIMS, DECODER_DIMS)\n",
    "projector = DVIProjector(vis_model=model, content_path=CONTENT_PATH, vis_model_name=VIS_MODEL_NAME, epoch_name=EPOCH_NAME, device=DEVICE)\n",
    "evaluator = Evaluator(data_provider,projector, metric=\"euclidean\")"
   ]
  },
  {
   "cell_type": "code",
   "execution_count": 16,
   "metadata": {},
   "outputs": [
    {
     "name": "stdout",
     "output_type": "stream",
     "text": [
      "Temporal nn preserving (test) for 15-th epoch 3: 1.288\t std:0.841\n"
     ]
    },
    {
     "data": {
      "text/plain": [
       "1.2885"
      ]
     },
     "execution_count": 16,
     "metadata": {},
     "output_type": "execute_result"
    }
   ],
   "source": [
    "evaluator.eval_temporal_nn_test(15,3)"
   ]
  }
 ],
 "metadata": {
  "kernelspec": {
   "display_name": "genvis",
   "language": "python",
   "name": "python3"
  },
  "language_info": {
   "codemirror_mode": {
    "name": "ipython",
    "version": 3
   },
   "file_extension": ".py",
   "mimetype": "text/x-python",
   "name": "python",
   "nbconvert_exporter": "python",
   "pygments_lexer": "ipython3",
   "version": "3.9.16"
  },
  "orig_nbformat": 4
 },
 "nbformat": 4,
 "nbformat_minor": 2
}
