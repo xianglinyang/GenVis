{
 "cells": [
  {
   "cell_type": "markdown",
   "metadata": {},
   "source": [
    "Try to skip missing epoch and use prediction to estimate reference"
   ]
  },
  {
   "cell_type": "markdown",
   "metadata": {},
   "source": [
    "# Load module"
   ]
  },
  {
   "cell_type": "code",
   "execution_count": 1,
   "metadata": {},
   "outputs": [
    {
     "name": "stderr",
     "output_type": "stream",
     "text": [
      "2023-09-02 00:14:06.679547: I tensorflow/core/platform/cpu_feature_guard.cc:182] This TensorFlow binary is optimized to use available CPU instructions in performance-critical operations.\n",
      "To enable the following instructions: AVX2 FMA, in other operations, rebuild TensorFlow with the appropriate compiler flags.\n",
      "2023-09-02 00:14:07.365608: W tensorflow/compiler/tf2tensorrt/utils/py_utils.cc:38] TF-TRT Warning: Could not find TensorRT\n"
     ]
    }
   ],
   "source": [
    "import os, sys\n",
    "import json\n",
    "import torch\n",
    "import numpy as np\n",
    "import torch.nn as nn\n",
    "import torch.optim as optim\n",
    "\n",
    "from scipy.spatial import distance\n",
    "\n",
    "sys.path.append(\"..\")\n",
    "from singleVis.data import NormalDataProvider\n",
    "from singleVis.projector import DVIProjector\n",
    "from singleVis.vis_models import vis_models as vmodels"
   ]
  },
  {
   "cell_type": "code",
   "execution_count": 2,
   "metadata": {},
   "outputs": [],
   "source": [
    "VIS_METHOD = \"tDVI\" # DeepVisualInsight\n",
    "CONTENT_PATH = \"/home/xianglin/projects/DVI_data/resnet18_mnist\"\n",
    "GPU_ID = \"0\""
   ]
  },
  {
   "cell_type": "code",
   "execution_count": 3,
   "metadata": {},
   "outputs": [],
   "source": [
    "sys.path.append(CONTENT_PATH)\n",
    "with open(os.path.join(CONTENT_PATH, \"config.json\"), \"r\") as f:\n",
    "    config = json.load(f)\n",
    "config = config[VIS_METHOD]"
   ]
  },
  {
   "cell_type": "code",
   "execution_count": 4,
   "metadata": {},
   "outputs": [],
   "source": [
    "SETTING = config[\"SETTING\"]\n",
    "CLASSES = config[\"CLASSES\"]\n",
    "DATASET = config[\"DATASET\"]\n",
    "PREPROCESS = config[\"VISUALIZATION\"][\"PREPROCESS\"]\n",
    "\n",
    "# Training parameter (subject model)\n",
    "TRAINING_PARAMETER = config[\"TRAINING\"]\n",
    "NET = TRAINING_PARAMETER[\"NET\"]\n",
    "LEN = TRAINING_PARAMETER[\"train_num\"]\n",
    "EPOCH_START = config[\"EPOCH_START\"]\n",
    "EPOCH_END = config[\"EPOCH_END\"]\n",
    "EPOCH_PERIOD = config[\"EPOCH_PERIOD\"]\n",
    "EPOCH_NAME = config[\"EPOCH_NAME\"]\n",
    "\n",
    "# Training parameter (visualization model)\n",
    "VISUALIZATION_PARAMETER = config[\"VISUALIZATION\"]\n",
    "VIS_MODEL = VISUALIZATION_PARAMETER['VIS_MODEL']\n",
    "LAMBDA = VISUALIZATION_PARAMETER[\"LAMBDA\"]\n",
    "B_N_EPOCHS = VISUALIZATION_PARAMETER[\"BOUNDARY\"][\"B_N_EPOCHS\"]\n",
    "L_BOUND = VISUALIZATION_PARAMETER[\"BOUNDARY\"][\"L_BOUND\"]\n",
    "ENCODER_DIMS = VISUALIZATION_PARAMETER[\"ENCODER_DIMS\"]\n",
    "DECODER_DIMS = VISUALIZATION_PARAMETER[\"DECODER_DIMS\"]\n",
    "S_N_EPOCHS = VISUALIZATION_PARAMETER[\"S_N_EPOCHS\"]\n",
    "N_NEIGHBORS = VISUALIZATION_PARAMETER[\"N_NEIGHBORS\"]\n",
    "PATIENT = VISUALIZATION_PARAMETER[\"PATIENT\"]\n",
    "MAX_EPOCH = VISUALIZATION_PARAMETER[\"MAX_EPOCH\"]\n",
    "\n",
    "# Define hyperparameters\n",
    "DEVICE = torch.device(\"cuda:{}\".format(GPU_ID) if torch.cuda.is_available() else \"cpu\")"
   ]
  },
  {
   "cell_type": "code",
   "execution_count": 5,
   "metadata": {},
   "outputs": [],
   "source": [
    "import Model.model as subject_model\n",
    "net = eval(\"subject_model.{}()\".format(NET))"
   ]
  },
  {
   "cell_type": "code",
   "execution_count": 6,
   "metadata": {},
   "outputs": [],
   "source": [
    "# VIS_MODEL_NAME = \"tDVI_cnAE_normal\"\n",
    "# EVALUATION_NAME = \"evaluation_tDVI_cnAE_normal\""
   ]
  },
  {
   "cell_type": "code",
   "execution_count": 7,
   "metadata": {},
   "outputs": [
    {
     "name": "stdout",
     "output_type": "stream",
     "text": [
      "Finish initialization...\n"
     ]
    }
   ],
   "source": [
    "# Define data_provider\n",
    "data_provider = NormalDataProvider(CONTENT_PATH, net, EPOCH_START, EPOCH_END, EPOCH_PERIOD, device=DEVICE, classes=CLASSES, epoch_name=EPOCH_NAME, verbose=1)\n",
    "if PREPROCESS:\n",
    "    data_provider._meta_data()\n",
    "    if B_N_EPOCHS >0:\n",
    "        data_provider._estimate_boundary(LEN//10, l_bound=L_BOUND)"
   ]
  },
  {
   "cell_type": "markdown",
   "metadata": {},
   "source": [
    "# estimate change"
   ]
  },
  {
   "cell_type": "code",
   "execution_count": 8,
   "metadata": {},
   "outputs": [],
   "source": [
    "# VIS_MODEL_NAME = \"tDVI_baseAE\"\n",
    "# VIS_MODEL = \"baseAE\"\n",
    "VIS_MODEL_NAME = \"tDVI_cnAE_different-margins\"\n",
    "VIS_MODEL = \"cnAE\""
   ]
  },
  {
   "cell_type": "code",
   "execution_count": 9,
   "metadata": {},
   "outputs": [],
   "source": [
    "VIS_MODEL_NAME = \"tDVI_cnAE_different-margins\"\n",
    "model = vmodels[VIS_MODEL](ENCODER_DIMS, DECODER_DIMS)\n",
    "projector = DVIProjector(vis_model=model, content_path=CONTENT_PATH, vis_model_name=VIS_MODEL_NAME, epoch_name=EPOCH_NAME, device=DEVICE)"
   ]
  },
  {
   "cell_type": "code",
   "execution_count": 10,
   "metadata": {},
   "outputs": [],
   "source": [
    "prev_e = 1\n",
    "next_e = 5"
   ]
  },
  {
   "cell_type": "code",
   "execution_count": 11,
   "metadata": {},
   "outputs": [],
   "source": [
    "prev_data = data_provider.train_representation(prev_e)\n",
    "next_data = data_provider.train_representation(next_e)\n",
    "\n",
    "mean_t = prev_data.mean(axis=0)\n",
    "std_t = prev_data.std(axis=0)\n",
    "mean_tk = next_data.mean(axis=0)\n",
    "std_tk = next_data.std(axis=0)"
   ]
  },
  {
   "cell_type": "code",
   "execution_count": 12,
   "metadata": {},
   "outputs": [
    {
     "name": "stdout",
     "output_type": "stream",
     "text": [
      "11.91 %\n",
      "23.36 %\n",
      "22.42 %\n"
     ]
    }
   ],
   "source": [
    "# Method 2: Sum of Z-scores (averaged over all features)\n",
    "z_score = np.abs(mean_tk - mean_t) / np.sqrt(std_t ** 2 + std_tk ** 2)\n",
    "uncertainty2 = np.mean(z_score)\n",
    "print(f\"{uncertainty2*100:.2f}\", \"%\")\n",
    "\n",
    "# Method 3: Euclidean Distance in Mean-Std Space (averaged over all features)\n",
    "uncertainty3 = np.mean(np.sqrt((mean_tk - mean_t)**2 + (std_tk - std_t)**2))\n",
    "print(f\"{uncertainty3*100:.2f}\", \"%\")\n",
    "\n",
    "# Method 4: Mahalanobis Distance (simplified, averaged over all features)\n",
    "uncertainty4 = np.mean(np.sqrt((mean_tk - mean_t)**2 / std_t + (std_tk - std_t)**2 / std_t))\n",
    "print(f\"{uncertainty4*100:.2f}\", \"%\")\n"
   ]
  },
  {
   "cell_type": "code",
   "execution_count": 13,
   "metadata": {},
   "outputs": [
    {
     "name": "stdout",
     "output_type": "stream",
     "text": [
      "Successfully load the DVI visualization model for iteration 1\n",
      "Successfully load the DVI visualization model for iteration 5\n",
      "Successfully load the DVI visualization model for iteration 1\n"
     ]
    }
   ],
   "source": [
    "prev_low = projector.batch_project(prev_e, prev_data)\n",
    "next_low = projector.batch_project(next_e, next_data)\n",
    "estimated_next_low = projector.batch_project(prev_e, next_data)"
   ]
  },
  {
   "cell_type": "code",
   "execution_count": 14,
   "metadata": {},
   "outputs": [],
   "source": [
    "high_change = np.array([distance.cosine(prev_data[i], next_data[i]) for i in range(len(prev_data))])\n",
    "low_change = np.linalg.norm(next_low-prev_low, axis=1)\n",
    "estimated_low_change = np.linalg.norm(estimated_next_low-prev_low, axis=1)"
   ]
  },
  {
   "cell_type": "code",
   "execution_count": 15,
   "metadata": {},
   "outputs": [
    {
     "name": "stdout",
     "output_type": "stream",
     "text": [
      "True SignificanceResult(statistic=0.5902571305668802, pvalue=0.0)\n",
      "Estimated High SignificanceResult(statistic=0.578765585897823, pvalue=0.0)\n"
     ]
    }
   ],
   "source": [
    "from scipy import stats\n",
    "print(\"True\", stats.spearmanr(high_change, low_change))\n",
    "print(\"Estimated High\", stats.spearmanr(high_change, estimated_low_change))"
   ]
  },
  {
   "cell_type": "markdown",
   "metadata": {},
   "source": [
    "# eval temporal"
   ]
  },
  {
   "cell_type": "code",
   "execution_count": 8,
   "metadata": {},
   "outputs": [],
   "source": [
    "from singleVis.eval.evaluator import Evaluator\n",
    "from singleVis.eval.evaluate import *"
   ]
  },
  {
   "cell_type": "code",
   "execution_count": 9,
   "metadata": {},
   "outputs": [],
   "source": [
    "VIS_MODEL_NAME = \"tDVI_cnAE_different-margins\"\n",
    "VIS_MODEL = \"cnAE\"\n",
    "model = vmodels[VIS_MODEL](ENCODER_DIMS, DECODER_DIMS)\n",
    "projector = DVIProjector(vis_model=model, content_path=CONTENT_PATH, vis_model_name=VIS_MODEL_NAME, epoch_name=EPOCH_NAME, device=DEVICE)\n",
    "evaluator = Evaluator(data_provider,projector, metric=\"euclidean\")"
   ]
  },
  {
   "cell_type": "code",
   "execution_count": 10,
   "metadata": {},
   "outputs": [
    {
     "name": "stdout",
     "output_type": "stream",
     "text": [
      "standard\n",
      "Temporal nn preserving (test) for 1-th epoch 3: 2.296\t std:0.615\n",
      "Temporal nn preserving (test) for 7-th epoch 3: 1.595\t std:0.764\n",
      "Temporal nn preserving (test) for 15-th epoch 3: 2.397\t std:0.650\n",
      "2.2964 1.595 2.3966\n"
     ]
    }
   ],
   "source": [
    "print(\"standard\")\n",
    "# print(evaluator.eval_nn_test(1,15),evaluator.eval_nn_test(7,15), evaluator.eval_nn_test(15,15))\n",
    "print(evaluator.eval_temporal_nn_test(1,3), evaluator.eval_temporal_nn_test(7,3), evaluator.eval_temporal_nn_test(15,3))"
   ]
  },
  {
   "cell_type": "code",
   "execution_count": 12,
   "metadata": {},
   "outputs": [
    {
     "name": "stdout",
     "output_type": "stream",
     "text": [
      "lightnorm\n",
      "Temporal nn preserving (test) for 1-th epoch 3: 2.189\t std:0.794\n",
      "Temporal nn preserving (test) for 7-th epoch 3: 1.171\t std:0.826\n",
      "Temporal nn preserving (test) for 15-th epoch 3: 2.277\t std:0.720\n",
      "2.1887 1.1706 2.2775\n"
     ]
    }
   ],
   "source": [
    "print(\"lightnorm\")\n",
    "print(evaluator.eval_temporal_nn_test(1,3), evaluator.eval_temporal_nn_test(7,3), evaluator.eval_temporal_nn_test(15,3));"
   ]
  },
  {
   "cell_type": "code",
   "execution_count": 14,
   "metadata": {},
   "outputs": [
    {
     "name": "stdout",
     "output_type": "stream",
     "text": [
      "normal\n",
      "Temporal nn preserving (test) for 1-th epoch 3: 0.551\t std:0.766\n",
      "Temporal nn preserving (test) for 7-th epoch 3: 0.658\t std:0.663\n",
      "Temporal nn preserving (test) for 15-th epoch 3: 0.839\t std:0.679\n",
      "0.5509 0.658 0.8386\n"
     ]
    }
   ],
   "source": [
    "print(\"normal\")\n",
    "# print(evaluator.eval_nn_test(1,15),evaluator.eval_nn_test(7,15), evaluator.eval_nn_test(15,15))\n",
    "print(evaluator.eval_temporal_nn_test(1,3), evaluator.eval_temporal_nn_test(7,3), evaluator.eval_temporal_nn_test(15,3));"
   ]
  },
  {
   "cell_type": "code",
   "execution_count": 16,
   "metadata": {},
   "outputs": [
    {
     "name": "stdout",
     "output_type": "stream",
     "text": [
      "skip\n",
      "Temporal nn preserving (test) for 1-th epoch 3: 0.638\t std:0.677\n",
      "Temporal nn preserving (test) for 7-th epoch 3: 0.592\t std:0.659\n",
      "Temporal nn preserving (test) for 15-th epoch 3: 0.852\t std:0.651\n",
      "0.6384 0.5919 0.8518\n"
     ]
    }
   ],
   "source": [
    "print(\"skip\")\n",
    "print(evaluator.eval_temporal_nn_test(1,3), evaluator.eval_temporal_nn_test(7,3), evaluator.eval_temporal_nn_test(15,3))"
   ]
  },
  {
   "cell_type": "code",
   "execution_count": 18,
   "metadata": {},
   "outputs": [
    {
     "name": "stdout",
     "output_type": "stream",
     "text": [
      "full skip\n",
      "Temporal nn preserving (test) for 1-th epoch 3: 1.640\t std:0.780\n",
      "Temporal nn preserving (test) for 7-th epoch 3: 0.793\t std:0.709\n",
      "Temporal nn preserving (test) for 15-th epoch 3: 1.288\t std:0.841\n",
      "1.6396 0.793 1.2885\n"
     ]
    }
   ],
   "source": [
    "print(\"full skip\")\n",
    "print(evaluator.eval_temporal_nn_test(1,3), evaluator.eval_temporal_nn_test(7,3), evaluator.eval_temporal_nn_test(15,3));"
   ]
  },
  {
   "cell_type": "code",
   "execution_count": 21,
   "metadata": {},
   "outputs": [
    {
     "name": "stdout",
     "output_type": "stream",
     "text": [
      "full estimation\n",
      "Temporal nn preserving (test) for 1-th epoch 3: 2.319\t std:0.757\n",
      "Temporal nn preserving (test) for 7-th epoch 3: 1.286\t std:0.828\n",
      "Temporal nn preserving (test) for 15-th epoch 3: 2.435\t std:0.669\n",
      "2.3191 1.2861 2.4346\n"
     ]
    }
   ],
   "source": [
    "print(\"full estimation\")\n",
    "print(evaluator.eval_temporal_nn_test(1,3), evaluator.eval_temporal_nn_test(7,3), evaluator.eval_temporal_nn_test(15,3));"
   ]
  },
  {
   "cell_type": "code",
   "execution_count": 23,
   "metadata": {},
   "outputs": [
    {
     "name": "stdout",
     "output_type": "stream",
     "text": [
      "estimation\n",
      "Temporal nn preserving (test) for 1-th epoch 3: 0.641\t std:0.723\n",
      "Temporal nn preserving (test) for 7-th epoch 3: 0.721\t std:0.664\n",
      "Temporal nn preserving (test) for 15-th epoch 3: 0.627\t std:0.635\n",
      "0.6407 0.7212 0.6275\n"
     ]
    }
   ],
   "source": [
    "print(\"estimation\")\n",
    "print(evaluator.eval_temporal_nn_test(1,3), evaluator.eval_temporal_nn_test(7,3), evaluator.eval_temporal_nn_test(15,3));"
   ]
  },
  {
   "cell_type": "code",
   "execution_count": 25,
   "metadata": {},
   "outputs": [
    {
     "name": "stdout",
     "output_type": "stream",
     "text": [
      "temporal-test\n",
      "Temporal nn preserving (test) for 1-th epoch 3: 1.749\t std:0.785\n",
      "Temporal nn preserving (test) for 7-th epoch 3: 0.743\t std:0.709\n",
      "Temporal nn preserving (test) for 15-th epoch 3: 1.214\t std:0.821\n",
      "1.7489 0.7433 1.2137\n"
     ]
    }
   ],
   "source": [
    "print(\"temporal-test\")\n",
    "# adjust temporal loss weight\n",
    "print(evaluator.eval_temporal_nn_test(1,3), evaluator.eval_temporal_nn_test(7,3), evaluator.eval_temporal_nn_test(15,3));"
   ]
  },
  {
   "cell_type": "code",
   "execution_count": 11,
   "metadata": {},
   "outputs": [
    {
     "name": "stdout",
     "output_type": "stream",
     "text": [
      "different-margins\n",
      "Temporal nn preserving (test) for 1-th epoch 3: 2.073\t std:0.791\n",
      "Temporal nn preserving (test) for 7-th epoch 3: 0.873\t std:0.791\n",
      "Temporal nn preserving (test) for 15-th epoch 3: 1.928\t std:0.705\n",
      "2.0729 0.8727 1.9283\n"
     ]
    }
   ],
   "source": [
    "print(\"different-margins\")\n",
    "print(evaluator.eval_temporal_nn_test(1,3), evaluator.eval_temporal_nn_test(7,3), evaluator.eval_temporal_nn_test(15,3))"
   ]
  },
  {
   "cell_type": "code",
   "execution_count": 10,
   "metadata": {},
   "outputs": [
    {
     "name": "stdout",
     "output_type": "stream",
     "text": [
      "different-margins\n",
      "Temporal nn preserving (test) for 1-th epoch 3: 2.157\t std:0.721\n",
      "Temporal nn preserving (test) for 7-th epoch 3: 0.724\t std:0.731\n",
      "Temporal nn preserving (test) for 15-th epoch 3: 2.077\t std:0.831\n",
      "2.1569 0.7241 2.0771\n"
     ]
    }
   ],
   "source": [
    "print(\"different-margins\")\n",
    "print(evaluator.eval_temporal_nn_test(1,3), evaluator.eval_temporal_nn_test(7,3), evaluator.eval_temporal_nn_test(15,3))"
   ]
  },
  {
   "cell_type": "markdown",
   "metadata": {},
   "source": [
    "## difference between cosine and euclidean"
   ]
  },
  {
   "cell_type": "code",
   "execution_count": 18,
   "metadata": {},
   "outputs": [],
   "source": [
    "epoch = 15\n",
    "n_neighbors = 3"
   ]
  },
  {
   "cell_type": "code",
   "execution_count": 20,
   "metadata": {},
   "outputs": [
    {
     "name": "stdout",
     "output_type": "stream",
     "text": [
      "2.4612\n"
     ]
    }
   ],
   "source": [
    "epoch_num = (data_provider.e - data_provider.s) // data_provider.p + 1\n",
    "l = data_provider.test_num\n",
    "high_dists = np.zeros((l, epoch_num))\n",
    "low_dists = np.zeros((l, epoch_num))\n",
    "\n",
    "curr_data = data_provider.test_representation(epoch)\n",
    "curr_embedding = projector.batch_project(epoch, curr_data)\n",
    "\n",
    "for t in range(epoch_num):\n",
    "    data = data_provider.test_representation(t * data_provider.p + data_provider.s)\n",
    "    embedding = projector.batch_project(t * data_provider.p + data_provider.s, data)\n",
    "\n",
    "    high_dist = evaluate_embedding_distance(data, curr_data, metric=\"cosine\", one_target=False)\n",
    "    low_dist = evaluate_embedding_distance(embedding, curr_embedding, metric=\"euclidean\", one_target=False)\n",
    "    high_dists[:, t] = high_dist\n",
    "    low_dists[:, t] = low_dist\n",
    "\n",
    "# find the index of top k dists\n",
    "# argsort descent order\n",
    "high_orders = np.argsort(high_dists, axis=1)\n",
    "low_orders = np.argsort(low_dists, axis=1)\n",
    "\n",
    "high_rankings = high_orders[:, 1:n_neighbors+1]\n",
    "low_rankings = low_orders[:, 1:n_neighbors+1]\n",
    "\n",
    "corr = np.zeros(len(high_dists))\n",
    "for i in range(len(data)):\n",
    "    corr[i] = len(np.intersect1d(high_rankings[i], low_rankings[i]))\n",
    "print(corr.mean())"
   ]
  }
 ],
 "metadata": {
  "kernelspec": {
   "display_name": "genvis",
   "language": "python",
   "name": "python3"
  },
  "language_info": {
   "codemirror_mode": {
    "name": "ipython",
    "version": 3
   },
   "file_extension": ".py",
   "mimetype": "text/x-python",
   "name": "python",
   "nbconvert_exporter": "python",
   "pygments_lexer": "ipython3",
   "version": "3.9.16"
  },
  "orig_nbformat": 4
 },
 "nbformat": 4,
 "nbformat_minor": 2
}
